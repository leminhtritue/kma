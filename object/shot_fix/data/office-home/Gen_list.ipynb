{
 "cells": [
  {
   "cell_type": "code",
   "execution_count": 11,
   "metadata": {},
   "outputs": [],
   "source": [
    "import os\n",
    "\n",
    "d = '.'\n",
    "list_task = [\"Art\", \"Clipart\", \"Product\", \"RealWorld\"]"
   ]
  },
  {
   "cell_type": "code",
   "execution_count": 12,
   "metadata": {},
   "outputs": [
    {
     "name": "stdout",
     "output_type": "stream",
     "text": [
      "Art\n",
      "Clipart\n",
      "Product\n",
      "RealWorld\n"
     ]
    }
   ],
   "source": [
    "d = list_task[0]\n",
    "set1 = set([o for o in os.listdir(d) if os.path.isdir(os.path.join(d,o))])\n",
    "print(d)\n",
    "\n",
    "d = list_task[1]\n",
    "set2 = set([o for o in os.listdir(d) if os.path.isdir(os.path.join(d,o))])\n",
    "print(d)\n",
    "\n",
    "d = list_task[2]\n",
    "set3 = set([o for o in os.listdir(d) if os.path.isdir(os.path.join(d,o))])\n",
    "print(d)\n",
    "\n",
    "d = list_task[3]\n",
    "set4 = set([o for o in os.listdir(d) if os.path.isdir(os.path.join(d,o))])\n",
    "print(d)"
   ]
  },
  {
   "cell_type": "code",
   "execution_count": 14,
   "metadata": {},
   "outputs": [
    {
     "name": "stdout",
     "output_type": "stream",
     "text": [
      "set()\n",
      "set()\n",
      "set()\n",
      "set()\n",
      "set()\n",
      "set()\n"
     ]
    }
   ],
   "source": [
    "print(set1 - set2)\n",
    "print(set2 - set1)\n",
    "\n",
    "print(set1 - set3)\n",
    "print(set3 - set1)\n",
    "\n",
    "print(set1 - set4)\n",
    "print(set4 - set1)"
   ]
  },
  {
   "cell_type": "code",
   "execution_count": 17,
   "metadata": {},
   "outputs": [],
   "source": [
    "out_class_file = open(\"class_map.txt\", \"w\")\n",
    "for item in sorted(set1):\n",
    "    out_class_file.write(\"{}\\n\".format(item))\n",
    "out_class_file.close()"
   ]
  },
  {
   "cell_type": "code",
   "execution_count": 37,
   "metadata": {},
   "outputs": [],
   "source": [
    "import random"
   ]
  },
  {
   "cell_type": "code",
   "execution_count": 39,
   "metadata": {},
   "outputs": [
    {
     "name": "stdout",
     "output_type": "stream",
     "text": [
      "2427\n",
      "4365\n",
      "4439\n",
      "4357\n"
     ]
    }
   ],
   "source": [
    "prefix = \"data/office-home/\"\n",
    "for d in list_task:\n",
    "    class_item = 0\n",
    "    all_list = []\n",
    "    for item in sorted(set1):\n",
    "        cur_path = os.path.join(d,item)\n",
    "        list_file = [os.path.join(cur_path, o) for o in sorted(os.listdir(cur_path)) if os.path.isfile(os.path.join(cur_path,o))]\n",
    "        list_file = [prefix + a_file.replace(\"\\\\\", \"/\") + \" {}\".format(class_item) for a_file in list_file]\n",
    "        all_list.extend(list_file)\n",
    "        class_item += 1\n",
    "    print(len(all_list))\n",
    "    random.shuffle(all_list)\n",
    "    out_task_file = open(\"{}_list.txt\".format(d), \"w\")\n",
    "    for item in all_list:\n",
    "        out_task_file.write(\"{}\\n\".format(item))\n",
    "    out_task_file.close()"
   ]
  },
  {
   "cell_type": "code",
   "execution_count": null,
   "metadata": {},
   "outputs": [],
   "source": []
  }
 ],
 "metadata": {
  "kernelspec": {
   "display_name": "Python 3",
   "language": "python",
   "name": "python3"
  },
  "language_info": {
   "codemirror_mode": {
    "name": "ipython",
    "version": 3
   },
   "file_extension": ".py",
   "mimetype": "text/x-python",
   "name": "python",
   "nbconvert_exporter": "python",
   "pygments_lexer": "ipython3",
   "version": "3.8.5"
  }
 },
 "nbformat": 4,
 "nbformat_minor": 4
}
