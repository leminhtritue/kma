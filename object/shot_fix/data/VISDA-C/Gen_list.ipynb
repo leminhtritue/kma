{
 "cells": [
  {
   "cell_type": "code",
   "execution_count": 11,
   "metadata": {},
   "outputs": [],
   "source": [
    "import os\n",
    "\n",
    "d = '.'\n",
    "list_task = [\"Art\", \"Clipart\", \"Product\", \"RealWorld\"]"
   ]
  },
  {
   "cell_type": "code",
   "execution_count": 12,
   "metadata": {},
   "outputs": [
    {
     "name": "stdout",
     "output_type": "stream",
     "text": [
      "Art\n",
      "Clipart\n",
      "Product\n",
      "RealWorld\n"
     ]
    }
   ],
   "source": [
    "d = list_task[0]\n",
    "set1 = set([o for o in os.listdir(d) if os.path.isdir(os.path.join(d,o))])\n",
    "print(d)\n",
    "\n",
    "d = list_task[1]\n",
    "set2 = set([o for o in os.listdir(d) if os.path.isdir(os.path.join(d,o))])\n",
    "print(d)\n",
    "\n",
    "d = list_task[2]\n",
    "set3 = set([o for o in os.listdir(d) if os.path.isdir(os.path.join(d,o))])\n",
    "print(d)\n",
    "\n",
    "d = list_task[3]\n",
    "set4 = set([o for o in os.listdir(d) if os.path.isdir(os.path.join(d,o))])\n",
    "print(d)"
   ]
  },
  {
   "cell_type": "code",
   "execution_count": 14,
   "metadata": {},
   "outputs": [
    {
     "name": "stdout",
     "output_type": "stream",
     "text": [
      "set()\n",
      "set()\n",
      "set()\n",
      "set()\n",
      "set()\n",
      "set()\n"
     ]
    }
   ],
   "source": [
    "print(set1 - set2)\n",
    "print(set2 - set1)\n",
    "\n",
    "print(set1 - set3)\n",
    "print(set3 - set1)\n",
    "\n",
    "print(set1 - set4)\n",
    "print(set4 - set1)"
   ]
  },
  {
   "cell_type": "code",
   "execution_count": 17,
   "metadata": {},
   "outputs": [],
   "source": [
    "out_class_file = open(\"class_map.txt\", \"w\")\n",
    "for item in sorted(set1):\n",
    "    out_class_file.write(\"{}\\n\".format(item))\n",
    "out_class_file.close()"
   ]
  },
  {
   "cell_type": "code",
   "execution_count": 37,
   "metadata": {},
   "outputs": [],
   "source": [
    "import random"
   ]
  },
  {
   "cell_type": "code",
   "execution_count": 39,
   "metadata": {},
   "outputs": [
    {
     "name": "stdout",
     "output_type": "stream",
     "text": [
      "2427\n",
      "4365\n",
      "4439\n",
      "4357\n"
     ]
    }
   ],
   "source": [
    "prefix = \"data/office-home/\"\n",
    "for d in list_task:\n",
    "    class_item = 0\n",
    "    all_list = []\n",
    "    for item in sorted(set1):\n",
    "        cur_path = os.path.join(d,item)\n",
    "        list_file = [os.path.join(cur_path, o) for o in sorted(os.listdir(cur_path)) if os.path.isfile(os.path.join(cur_path,o))]\n",
    "        list_file = [prefix + a_file.replace(\"\\\\\", \"/\") + \" {}\".format(class_item) for a_file in list_file]\n",
    "        all_list.extend(list_file)\n",
    "        class_item += 1\n",
    "    print(len(all_list))\n",
    "    random.shuffle(all_list)\n",
    "    out_task_file = open(\"{}_list.txt\".format(d), \"w\")\n",
    "    for item in all_list:\n",
    "        out_task_file.write(\"{}\\n\".format(item))\n",
    "    out_task_file.close()"
   ]
  },
  {
   "cell_type": "code",
   "execution_count": 4,
   "metadata": {},
   "outputs": [
    {
     "name": "stdout",
     "output_type": "stream",
     "text": [
      "55388\n",
      "['truck/truck_401876.jpg 11', 'truck/truck_401916.jpg 11', 'truck/truck_401931.jpg 11', 'truck/truck_900800120743.jpg 11', 'truck/truck_900800333654.jpg 11']\n"
     ]
    }
   ],
   "source": [
    "task = \"validation\"\n",
    "with open('{}_list_raw.txt'.format(task)) as f:\n",
    "    lines = f.read().splitlines()\n",
    "print(len(lines))\n",
    "print(lines[-5:])"
   ]
  },
  {
   "cell_type": "code",
   "execution_count": 5,
   "metadata": {},
   "outputs": [],
   "source": [
    "import random\n",
    "prefix = \"/home/code-base/runtime/Tue/VISDA-C/{}/\".format(task)\n",
    "random.shuffle(lines)\n",
    "out_file = open(\"{}_list.txt\".format(task), \"w\")\n",
    "for item in lines:\n",
    "    out_file.write(\"{}\\n\".format(prefix + item))\n",
    "out_file.close()"
   ]
  },
  {
   "cell_type": "code",
   "execution_count": 6,
   "metadata": {},
   "outputs": [
    {
     "name": "stdout",
     "output_type": "stream",
     "text": [
      "55388\n"
     ]
    }
   ],
   "source": [
    "print(len(lines))"
   ]
  },
  {
   "cell_type": "code",
   "execution_count": null,
   "metadata": {},
   "outputs": [],
   "source": []
  },
  {
   "cell_type": "code",
   "execution_count": null,
   "metadata": {},
   "outputs": [],
   "source": []
  },
  {
   "cell_type": "code",
   "execution_count": null,
   "metadata": {},
   "outputs": [],
   "source": []
  },
  {
   "cell_type": "code",
   "execution_count": 4,
   "metadata": {},
   "outputs": [
    {
     "name": "stdout",
     "output_type": "stream",
     "text": [
      "152397\n",
      "['/home/code-base/runtime/Tue/VISDA-C/train/motorcycle/src_2_03790512_329e47988e39df1b8c1912cd8631ab82__129_123_165.png 6', '/home/code-base/runtime/Tue/VISDA-C/train/bus/src_3_626__44_10_150.png 2', '/home/code-base/runtime/Tue/VISDA-C/train/car/src_2_02958343_50e986077b994d6aa848f24544821b25__299_123_165.png 3', '/home/code-base/runtime/Tue/VISDA-C/train/aeroplane/src_1_02691156_3c52f7f687ce7efe3df325aac2f73830__197_10_165.png 0', '/home/code-base/runtime/Tue/VISDA-C/train/train/src_2_04468005_7d337d1be2d02b624e38abcf1c844caf__214_236_150.png 10']\n"
     ]
    }
   ],
   "source": [
    "task = \"train\"\n",
    "with open('{}_list_o.txt'.format(task)) as f:\n",
    "    lines = f.read().splitlines()\n",
    "print(len(lines))\n",
    "print(lines[-5:])"
   ]
  },
  {
   "cell_type": "code",
   "execution_count": 5,
   "metadata": {},
   "outputs": [],
   "source": [
    "out_file = open(\"{}_list.txt\".format(task), \"w\")\n",
    "for item in lines:\n",
    "    out_file.write(\"{}\\n\".format(item.replace(\"/VISDA-C/\", \"/VISDA-C_e/\")))\n",
    "out_file.close()"
   ]
  },
  {
   "cell_type": "code",
   "execution_count": null,
   "metadata": {},
   "outputs": [],
   "source": []
  }
 ],
 "metadata": {
  "kernelspec": {
   "display_name": "Python 3",
   "language": "python",
   "name": "python3"
  },
  "language_info": {
   "codemirror_mode": {
    "name": "ipython",
    "version": 3
   },
   "file_extension": ".py",
   "mimetype": "text/x-python",
   "name": "python",
   "nbconvert_exporter": "python",
   "pygments_lexer": "ipython3",
   "version": "3.8.5"
  }
 },
 "nbformat": 4,
 "nbformat_minor": 4
}
