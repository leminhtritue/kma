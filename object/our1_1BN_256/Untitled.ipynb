{
 "cells": [
  {
   "cell_type": "code",
   "execution_count": 23,
   "metadata": {},
   "outputs": [
    {
     "name": "stdout",
     "output_type": "stream",
     "text": [
      "{'back_pack': 0, 'bike': 1, 'bike_helmet': 2, 'bookcase': 3, 'bottle': 4, 'calculator': 5, 'desk_chair': 6, 'desk_lamp': 7, 'desktop_computer': 8, 'file_cabinet': 9, 'headphones': 10, 'keyboard': 11, 'laptop_computer': 12, 'letter_tray': 13, 'mobile_phone': 14, 'monitor': 15, 'mouse': 16, 'mug': 17, 'paper_notebook': 18, 'pen': 19, 'phone': 20, 'printer': 21, 'projector': 22, 'punchers': 23, 'ring_binder': 24, 'ruler': 25, 'scissors': 26, 'speaker': 27, 'stapler': 28, 'tape_dispenser': 29, 'trash_can': 30}\n"
     ]
    }
   ],
   "source": [
    "import os, sys, random\n",
    "office_folder = os.path.join(\"data\", \"office\")\n",
    "with open(os.path.join(office_folder, \"class_map.txt\")) as f:\n",
    "    list_class = f.read().splitlines()\n",
    "list_class.sort()\n",
    "\n",
    "dict_class = dict()\n",
    "for i in range(len(list_class)):\n",
    "    dict_class[list_class[i]] = i\n",
    "print(dict_class)"
   ]
  },
  {
   "cell_type": "code",
   "execution_count": 25,
   "metadata": {
    "scrolled": true
   },
   "outputs": [],
   "source": [
    "import os\n",
    "\n",
    "for task_folder in [\"amazon\", \"dslr\", \"webcam\"]:\n",
    "    task_images_folder = os.path.join(office_folder, task_folder, \"images\")\n",
    "    out_txt = os.path.join(office_folder, task_folder + \".txt\") \n",
    "\n",
    "    sub_folder_list = [f for f in os.listdir(task_images_folder) if os.path.isdir(os.path.join(task_images_folder, f))]\n",
    "\n",
    "    out_list = []\n",
    "    for sub_folder in sub_folder_list:\n",
    "        sub_folder_path = os.path.join(task_images_folder, sub_folder)\n",
    "        list_images = [f for f in os.listdir(sub_folder_path) if os.path.isfile(os.path.join(sub_folder_path, f))]\n",
    "        list_images_path = [os.path.join(sub_folder_path, images) + \" \" + str(dict_class[sub_folder]) for images in list_images]\n",
    "        out_list.extend(list_images_path)\n",
    "\n",
    "    random.shuffle(out_list)\n",
    "    with open(out_txt, 'w') as f:\n",
    "        for item in out_list:\n",
    "            f.write(\"%s\\n\" % item)"
   ]
  },
  {
   "cell_type": "code",
   "execution_count": null,
   "metadata": {},
   "outputs": [],
   "source": []
  }
 ],
 "metadata": {
  "kernelspec": {
   "display_name": "Python 3",
   "language": "python",
   "name": "python3"
  },
  "language_info": {
   "codemirror_mode": {
    "name": "ipython",
    "version": 3
   },
   "file_extension": ".py",
   "mimetype": "text/x-python",
   "name": "python",
   "nbconvert_exporter": "python",
   "pygments_lexer": "ipython3",
   "version": "3.8.5"
  }
 },
 "nbformat": 4,
 "nbformat_minor": 4
}
